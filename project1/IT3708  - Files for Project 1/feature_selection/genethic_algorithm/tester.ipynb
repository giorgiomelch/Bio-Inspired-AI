{
 "cells": [
  {
   "cell_type": "code",
   "execution_count": 10,
   "metadata": {},
   "outputs": [],
   "source": [
    "using CSV\n",
    "using DataFrames\n",
    "using Plots\n",
    "using Statistics\n",
    "using MLJ\n",
    "using StableRNGs"
   ]
  },
  {
   "cell_type": "code",
   "execution_count": 11,
   "metadata": {},
   "outputs": [
    {
     "data": {
      "text/plain": [
       "get_columns"
      ]
     },
     "metadata": {},
     "output_type": "display_data"
    }
   ],
   "source": [
    "include(\"initialization.jl\")\n",
    "include(\"selection.jl\")\n",
    "include(\"crossover.jl\")\n",
    "include(\"mutation.jl\")\n",
    "include(\"plots.jl\")\n",
    "include(\"distance.jl\")\n",
    "include(\"../LinReg.jl\")"
   ]
  },
  {
   "cell_type": "code",
   "execution_count": 12,
   "metadata": {},
   "outputs": [
    {
     "data": {
      "text/plain": [
       "StableRNGs.LehmerRNG(state=0x000000000000000000000000000000f7)"
      ]
     },
     "metadata": {},
     "output_type": "display_data"
    }
   ],
   "source": [
    "# Carica i dati dal file CSV\n",
    "data = CSV.read(\"./dataset.txt\", DataFrame; header=0)\n",
    "y, X = unpack(data, ==(:Column102));"
   ]
  },
  {
   "cell_type": "code",
   "execution_count": null,
   "metadata": {},
   "outputs": [
    {
     "name": "stdout",
     "output_type": "stream",
     "text": [
      "0.14068411713674664 0.1339920126999817\n"
     ]
    }
   ],
   "source": [
    "myRNG = StableRNG(123)\n",
    "LinearRegressor = @load LinearRegressor pkg=MLJLinearModels verbosity=0\n",
    "model = LinearRegressor()\n",
    "fitness1 = get_fitness(model, X, y; rng=rng)\n",
    "fitness2 = get_fitness(model, X, y; rng=rng)\n",
    "println(fitness1, \" \", fitness2)\n"
   ]
  }
 ],
 "metadata": {
  "kernelspec": {
   "display_name": "Julia 1.11.3",
   "language": "julia",
   "name": "julia-1.11"
  },
  "language_info": {
   "file_extension": ".jl",
   "mimetype": "application/julia",
   "name": "julia",
   "version": "1.11.3"
  }
 },
 "nbformat": 4,
 "nbformat_minor": 2
}
