{
 "cells": [
  {
   "cell_type": "code",
   "execution_count": 23,
   "metadata": {},
   "outputs": [],
   "source": [
    "import pandas as pd\n",
    "import numpy as np\n",
    "from itertools import product"
   ]
  },
  {
   "cell_type": "code",
   "execution_count": 24,
   "metadata": {},
   "outputs": [],
   "source": [
    "lookup_table = pd.read_csv('Fitness_value_magic04.csv', header=None).values.flatten()[:-1]"
   ]
  },
  {
   "cell_type": "code",
   "execution_count": 25,
   "metadata": {},
   "outputs": [
    {
     "name": "stdout",
     "output_type": "stream",
     "text": [
      "1023\n",
      "[[0 0 0 ... 0 0 1]\n",
      " [0 0 0 ... 0 1 0]\n",
      " [0 0 0 ... 0 1 1]\n",
      " ...\n",
      " [1 1 1 ... 1 0 1]\n",
      " [1 1 1 ... 1 1 0]\n",
      " [1 1 1 ... 1 1 1]]\n"
     ]
    }
   ],
   "source": [
    "num_features = 10\n",
    "combinations = np.array(list(product([0, 1], repeat=num_features)))[1:]\n",
    "print(len(lookup_table))\n",
    "print(combinations)"
   ]
  },
  {
   "cell_type": "code",
   "execution_count": 26,
   "metadata": {},
   "outputs": [
    {
     "data": {
      "text/plain": [
       "-1"
      ]
     },
     "execution_count": 26,
     "metadata": {},
     "output_type": "execute_result"
    }
   ],
   "source": [
    "def bitstring_to_index(features_used):\n",
    "    index = -1 \n",
    "    for i, bit in enumerate(reversed(features_used)):\n",
    "        index += bit * (2 ** i) \n",
    "    return index\n",
    "bitstring_to_index([0,0,0,0,0])"
   ]
  },
  {
   "cell_type": "code",
   "execution_count": 27,
   "metadata": {},
   "outputs": [],
   "source": [
    "def fitness_function(features_used):\n",
    "    lookup_table_index = bitstring_to_index(features_used)\n",
    "    accuracy = lookup_table[lookup_table_index]\n",
    "    error = 1 - accuracy\n",
    "    penalty_weight = 0.001\n",
    "    fitness = error + penalty_weight * sum(features_used)\n",
    "    return fitness"
   ]
  },
  {
   "cell_type": "code",
   "execution_count": 28,
   "metadata": {},
   "outputs": [],
   "source": [
    "local_optima_list=[]\n",
    "for current in combinations:\n",
    "    local_optima = True\n",
    "    for bit_flip in range(num_features):\n",
    "        neighbor = list(current)\n",
    "        neighbor[bit_flip] = 1 - neighbor[bit_flip]\n",
    "        if sum(neighbor) != 0:\n",
    "            index_neighbor = bitstring_to_index(neighbor)\n",
    "            if fitness_function(current) > fitness_function(neighbor):\n",
    "                local_optima = False\n",
    "    if local_optima == True:\n",
    "        local_optima_list.append(current)"
   ]
  },
  {
   "cell_type": "code",
   "execution_count": 29,
   "metadata": {},
   "outputs": [
    {
     "name": "stdout",
     "output_type": "stream",
     "text": [
      "15\n"
     ]
    },
    {
     "data": {
      "text/plain": [
       "[array([0, 1, 1, 0, 1, 1, 1, 1, 1, 1]),\n",
       " array([0, 1, 1, 1, 1, 1, 1, 0, 1, 1]),\n",
       " array([1, 1, 1, 0, 0, 1, 1, 0, 1, 1]),\n",
       " array([1, 1, 1, 0, 1, 0, 0, 0, 1, 0]),\n",
       " array([1, 1, 1, 0, 1, 0, 0, 1, 1, 1]),\n",
       " array([1, 1, 1, 0, 1, 1, 0, 1, 1, 0]),\n",
       " array([1, 1, 1, 0, 1, 1, 1, 0, 1, 0]),\n",
       " array([1, 1, 1, 1, 0, 0, 0, 0, 1, 0]),\n",
       " array([1, 1, 1, 1, 0, 0, 0, 1, 1, 1]),\n",
       " array([1, 1, 1, 1, 0, 0, 1, 0, 1, 1]),\n",
       " array([1, 1, 1, 1, 0, 0, 1, 1, 1, 0]),\n",
       " array([1, 1, 1, 1, 0, 1, 0, 1, 1, 0]),\n",
       " array([1, 1, 1, 1, 1, 0, 0, 0, 1, 1]),\n",
       " array([1, 1, 1, 1, 1, 0, 0, 1, 1, 0]),\n",
       " array([1, 1, 1, 1, 1, 1, 0, 0, 1, 0])]"
      ]
     },
     "execution_count": 29,
     "metadata": {},
     "output_type": "execute_result"
    }
   ],
   "source": [
    "print(len(local_optima_list))\n",
    "local_optima_list"
   ]
  }
 ],
 "metadata": {
  "kernelspec": {
   "display_name": "SnakeRL",
   "language": "python",
   "name": "python3"
  },
  "language_info": {
   "codemirror_mode": {
    "name": "ipython",
    "version": 3
   },
   "file_extension": ".py",
   "mimetype": "text/x-python",
   "name": "python",
   "nbconvert_exporter": "python",
   "pygments_lexer": "ipython3",
   "version": "3.12.4"
  }
 },
 "nbformat": 4,
 "nbformat_minor": 2
}
